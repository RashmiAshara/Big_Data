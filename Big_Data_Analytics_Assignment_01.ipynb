{
  "nbformat": 4,
  "nbformat_minor": 0,
  "metadata": {
    "colab": {
      "provenance": [],
      "authorship_tag": "ABX9TyMJpw6sr1PfGViLYf1/x47d",
      "include_colab_link": true
    },
    "kernelspec": {
      "name": "python3",
      "display_name": "Python 3"
    },
    "language_info": {
      "name": "python"
    }
  },
  "cells": [
    {
      "cell_type": "markdown",
      "metadata": {
        "id": "view-in-github",
        "colab_type": "text"
      },
      "source": [
        "<a href=\"https://colab.research.google.com/github/RashmiAshara/Big_Data/blob/main/Big_Data_Analytics_Assignment_01.ipynb\" target=\"_parent\"><img src=\"https://colab.research.google.com/assets/colab-badge.svg\" alt=\"Open In Colab\"/></a>"
      ]
    },
    {
      "cell_type": "markdown",
      "source": [
        "# Big Data Analytics - Assignment 01 [Rashmi Ashara] [BSIT 231015]"
      ],
      "metadata": {
        "id": "VANZj-X_ftb6"
      }
    },
    {
      "cell_type": "markdown",
      "source": [
        "### Step 1: Update and Upgrade the System Repositories"
      ],
      "metadata": {
        "id": "qXcfMJplf8-p"
      }
    },
    {
      "cell_type": "markdown",
      "source": [
        "To ensure that the system has the latest available packages and dependencies, we first update and upgrade the repositories:"
      ],
      "metadata": {
        "id": "XN0Pe3GSglBc"
      }
    },
    {
      "cell_type": "code",
      "source": [
        "!apt update &> /dev/null  # Update package lists\n",
        "!apt upgrade -y &> /dev/null  # Upgrade all installed packages\n"
      ],
      "metadata": {
        "id": "E6GRhOSLglyB"
      },
      "execution_count": 1,
      "outputs": []
    },
    {
      "cell_type": "markdown",
      "source": [
        "This will fetch the latest information from the repositories and update any outdated packages silently (the `&> /dev/null` suppresses output)."
      ],
      "metadata": {
        "id": "8hXAicObgm5w"
      }
    },
    {
      "cell_type": "markdown",
      "source": [
        "### Step 2: Verify if `pip` is Installed"
      ],
      "metadata": {
        "id": "ERGPCR2Bg0GR"
      }
    },
    {
      "cell_type": "markdown",
      "source": [
        "Before proceeding with the installation of necessary packages, we check if `pip` is available on the system:"
      ],
      "metadata": {
        "id": "VP-EiAENg1GZ"
      }
    },
    {
      "cell_type": "code",
      "source": [
        "!pip --version  # Check the installed pip version"
      ],
      "metadata": {
        "colab": {
          "base_uri": "https://localhost:8080/"
        },
        "id": "okB_M3Ncg5nA",
        "outputId": "c1988397-99a5-40be-f826-4e3c8c2d677c"
      },
      "execution_count": 2,
      "outputs": [
        {
          "output_type": "stream",
          "name": "stdout",
          "text": [
            "pip 24.1.2 from /usr/local/lib/python3.12/dist-packages/pip (python 3.12)\n"
          ]
        }
      ]
    },
    {
      "cell_type": "markdown",
      "source": [
        "This ensures that the package installer for Python (`pip`) is ready to use.\n"
      ],
      "metadata": {
        "id": "G4Ux8Yosg6JA"
      }
    },
    {
      "cell_type": "markdown",
      "source": [
        "### Step 3: Install PySpark and Required Dependencies\n"
      ],
      "metadata": {
        "id": "TNSK9Wt7g9Eo"
      }
    },
    {
      "cell_type": "markdown",
      "source": [
        "Next, we install `PySpark`, which is the Python API for Apache Spark. We also install `PyDrive`, which provides easy access to Google Drive, and any other dependencies:\n"
      ],
      "metadata": {
        "id": "R4WPbH9Cg-2R"
      }
    },
    {
      "cell_type": "code",
      "source": [
        "!pip install pyspark --quiet  # Install PySpark\n",
        "!pip install -U -q PyDrive --quiet  # Install or upgrade PyDrive silently\n"
      ],
      "metadata": {
        "colab": {
          "base_uri": "https://localhost:8080/"
        },
        "id": "y4n2lBJTg73g",
        "outputId": "e85c9d07-3df1-4f4c-b45f-d18524d525c2"
      },
      "execution_count": 3,
      "outputs": [
        {
          "output_type": "stream",
          "name": "stdout",
          "text": [
            "\u001b[?25l     \u001b[90m━━━━━━━━━━━━━━━━━━━━━━━━━━━━━━━━━━━━━━━━\u001b[0m \u001b[32m0.0/987.4 kB\u001b[0m \u001b[31m?\u001b[0m eta \u001b[36m-:--:--\u001b[0m\r\u001b[2K     \u001b[91m━━━━\u001b[0m\u001b[90m╺\u001b[0m\u001b[90m━━━━━━━━━━━━━━━━━━━━━━━━━━━━━━━━━━\u001b[0m \u001b[32m112.6/987.4 kB\u001b[0m \u001b[31m3.5 MB/s\u001b[0m eta \u001b[36m0:00:01\u001b[0m\r\u001b[2K     \u001b[91m━━━━━━━━━━━━━━━━━━━\u001b[0m\u001b[90m╺\u001b[0m\u001b[90m━━━━━━━━━━━━━━━━━━━\u001b[0m \u001b[32m491.5/987.4 kB\u001b[0m \u001b[31m6.9 MB/s\u001b[0m eta \u001b[36m0:00:01\u001b[0m\r\u001b[2K     \u001b[90m━━━━━━━━━━━━━━━━━━━━━━━━━━━━━━━━━━━━━━━\u001b[0m \u001b[32m987.4/987.4 kB\u001b[0m \u001b[31m9.4 MB/s\u001b[0m eta \u001b[36m0:00:00\u001b[0m\n",
            "\u001b[?25h  Preparing metadata (setup.py) ... \u001b[?25l\u001b[?25hdone\n",
            "  Building wheel for PyDrive (setup.py) ... \u001b[?25l\u001b[?25hdone\n"
          ]
        }
      ]
    },
    {
      "cell_type": "markdown",
      "source": [
        "The `--quiet` flag suppresses the installation output, making the process less verbose.\n"
      ],
      "metadata": {
        "id": "2m0iUP40hCRo"
      }
    },
    {
      "cell_type": "markdown",
      "source": [
        "### Step 4: Install OpenJDK 8\n"
      ],
      "metadata": {
        "id": "BkcyqqBphDlA"
      }
    },
    {
      "cell_type": "markdown",
      "source": [
        "Apache Spark relies on Java, so we need to install **OpenJDK 8**. This installation is done in a headless mode (no GUI), as we don't need a graphical interface for the setup:"
      ],
      "metadata": {
        "id": "_7QODvZehExp"
      }
    },
    {
      "cell_type": "code",
      "source": [
        "!apt install openjdk-8-jdk-headless &> /dev/null  # Install OpenJDK 8 in headless mode"
      ],
      "metadata": {
        "id": "_seuJ-ZVhFD4"
      },
      "execution_count": 4,
      "outputs": []
    },
    {
      "cell_type": "markdown",
      "source": [
        "This will install the Java Development Kit required for Spark without the unnecessary graphical components."
      ],
      "metadata": {
        "id": "OYXNx1ZbhHRo"
      }
    },
    {
      "cell_type": "markdown",
      "source": [
        "### Step 5: Set the `JAVA_HOME` Environment Variable\n"
      ],
      "metadata": {
        "id": "2uwsaMmShIoS"
      }
    },
    {
      "cell_type": "markdown",
      "source": [
        "After installing Java, we need to set the `JAVA_HOME` environment variable to ensure Spark can locate Java. This step is crucial for Spark to work correctly:\n"
      ],
      "metadata": {
        "id": "kDWfYy5ahJGA"
      }
    },
    {
      "cell_type": "code",
      "source": [
        "import os\n",
        "\n",
        "# Set the JAVA_HOME path\n",
        "os.environ[\"JAVA_HOME\"] = \"/usr/lib/jvm/java-8-openjdk-amd64\"\n",
        "\n",
        "# Verify the environment variable\n",
        "!echo $JAVA_HOME"
      ],
      "metadata": {
        "colab": {
          "base_uri": "https://localhost:8080/"
        },
        "id": "lxYXwK7AhKUI",
        "outputId": "abef3d25-00e1-42a3-bff1-8f986c6e1912"
      },
      "execution_count": 5,
      "outputs": [
        {
          "output_type": "stream",
          "name": "stdout",
          "text": [
            "/usr/lib/jvm/java-8-openjdk-amd64\n"
          ]
        }
      ]
    },
    {
      "cell_type": "markdown",
      "source": [
        "This ensures that the system knows where to find the Java installation, and the `echo $JAVA_HOME` command confirms that it's set correctly.\n"
      ],
      "metadata": {
        "id": "pflEnII2hNiI"
      }
    },
    {
      "cell_type": "markdown",
      "source": [
        "### Step 6: Initialize the Spark Session\n"
      ],
      "metadata": {
        "id": "wAlXBDuxhP4p"
      }
    },
    {
      "cell_type": "markdown",
      "source": [
        "With Java and PySpark set up, we now initialize a Spark session. The Spark session is the entry point to any Spark functionality. In this case, we configure it with an application name and a custom Spark UI port (4050):"
      ],
      "metadata": {
        "id": "DNBj0vH8hRAv"
      }
    },
    {
      "cell_type": "code",
      "source": [
        "from pyspark.sql import SparkSession\n",
        "\n",
        "# Initialize SparkSession with custom configurations\n",
        "spark = SparkSession \\\n",
        "    .builder \\\n",
        "    .appName(\"bigData\") \\\n",
        "    .config(\"spark.ui.port\", \"4050\") \\\n",
        "    .getOrCreate()\n",
        "\n",
        "# Verify the Spark session initialization\n",
        "spark"
      ],
      "metadata": {
        "colab": {
          "base_uri": "https://localhost:8080/",
          "height": 219
        },
        "id": "oNzCylPvhN3o",
        "outputId": "82032066-5ddc-4e29-d8b4-3427df80baa9"
      },
      "execution_count": 6,
      "outputs": [
        {
          "output_type": "execute_result",
          "data": {
            "text/plain": [
              "<pyspark.sql.session.SparkSession at 0x7f30d422ce60>"
            ],
            "text/html": [
              "\n",
              "            <div>\n",
              "                <p><b>SparkSession - in-memory</b></p>\n",
              "                \n",
              "        <div>\n",
              "            <p><b>SparkContext</b></p>\n",
              "\n",
              "            <p><a href=\"http://2d1a3c569a61:4050\">Spark UI</a></p>\n",
              "\n",
              "            <dl>\n",
              "              <dt>Version</dt>\n",
              "                <dd><code>v3.5.1</code></dd>\n",
              "              <dt>Master</dt>\n",
              "                <dd><code>local[*]</code></dd>\n",
              "              <dt>AppName</dt>\n",
              "                <dd><code>bigData</code></dd>\n",
              "            </dl>\n",
              "        </div>\n",
              "        \n",
              "            </div>\n",
              "        "
            ]
          },
          "metadata": {},
          "execution_count": 6
        }
      ]
    },
    {
      "cell_type": "markdown",
      "source": [
        "-   **`.appName(\"bigData\")`**: Sets the name of the application (you can change `\"bigData\"` to any name you prefer).\n",
        "    \n",
        "-   **`.config(\"spark.ui.port\", \"4050\")`**: Configures the Spark UI to run on port 4050. This can be useful if you're running multiple Spark jobs simultaneously and want to avoid port conflicts."
      ],
      "metadata": {
        "id": "VcxGVb6IhV1w"
      }
    },
    {
      "cell_type": "markdown",
      "source": [
        "### Step 7: Verify the Spark Session\n"
      ],
      "metadata": {
        "id": "6t50nT5dhZQR"
      }
    },
    {
      "cell_type": "markdown",
      "source": [
        "Finally, we print the `spark` object to verify that the Spark session has been correctly initialized. This object will allow us to interact with Spark through the PySpark API.\n"
      ],
      "metadata": {
        "id": "FhI-sBachaQq"
      }
    },
    {
      "cell_type": "code",
      "source": [
        "spark  # Display the Spark session details\n"
      ],
      "metadata": {
        "colab": {
          "base_uri": "https://localhost:8080/",
          "height": 219
        },
        "id": "QpdArQWphWcp",
        "outputId": "cc021a6d-0e43-4f1f-fbbf-197b48b77685"
      },
      "execution_count": 7,
      "outputs": [
        {
          "output_type": "execute_result",
          "data": {
            "text/plain": [
              "<pyspark.sql.session.SparkSession at 0x7f30d422ce60>"
            ],
            "text/html": [
              "\n",
              "            <div>\n",
              "                <p><b>SparkSession - in-memory</b></p>\n",
              "                \n",
              "        <div>\n",
              "            <p><b>SparkContext</b></p>\n",
              "\n",
              "            <p><a href=\"http://2d1a3c569a61:4050\">Spark UI</a></p>\n",
              "\n",
              "            <dl>\n",
              "              <dt>Version</dt>\n",
              "                <dd><code>v3.5.1</code></dd>\n",
              "              <dt>Master</dt>\n",
              "                <dd><code>local[*]</code></dd>\n",
              "              <dt>AppName</dt>\n",
              "                <dd><code>bigData</code></dd>\n",
              "            </dl>\n",
              "        </div>\n",
              "        \n",
              "            </div>\n",
              "        "
            ]
          },
          "metadata": {},
          "execution_count": 7
        }
      ]
    },
    {
      "cell_type": "markdown",
      "source": [
        "### Step 8: Download the Dataset Using `wget`"
      ],
      "metadata": {
        "id": "kDnRsZlFiUcB"
      }
    },
    {
      "cell_type": "markdown",
      "source": [
        "To begin working with the dataset, we use the `wget` command to download the file from a given URL. In this case, the dataset is a CSV file:"
      ],
      "metadata": {
        "id": "Q0q7Nzn9iVEh"
      }
    },
    {
      "cell_type": "code",
      "source": [
        "!wget -O Dataset.csv https://raw.githubusercontent.com/RashmiAshara/Big_Data/main/family_anxiety_14_dataset.csv"
      ],
      "metadata": {
        "colab": {
          "base_uri": "https://localhost:8080/"
        },
        "id": "WdoKnkICiWkp",
        "outputId": "033a66f2-3f4a-4a02-9256-c0ff206aa417"
      },
      "execution_count": 10,
      "outputs": [
        {
          "output_type": "stream",
          "name": "stdout",
          "text": [
            "--2025-09-28 18:17:16--  https://raw.githubusercontent.com/RashmiAshara/Big_Data/main/family_anxiety_14_dataset.csv\n",
            "Resolving raw.githubusercontent.com (raw.githubusercontent.com)... 185.199.108.133, 185.199.109.133, 185.199.110.133, ...\n",
            "Connecting to raw.githubusercontent.com (raw.githubusercontent.com)|185.199.108.133|:443... connected.\n",
            "HTTP request sent, awaiting response... 200 OK\n",
            "Length: 733671 (716K) [text/plain]\n",
            "Saving to: ‘Dataset.csv’\n",
            "\n",
            "Dataset.csv         100%[===================>] 716.48K  3.24MB/s    in 0.2s    \n",
            "\n",
            "2025-09-28 18:17:17 (3.24 MB/s) - ‘Dataset.csv’ saved [733671/733671]\n",
            "\n"
          ]
        }
      ]
    },
    {
      "cell_type": "markdown",
      "source": [
        "This command fetches the `Dataset.csv` file and stores it in the current working directory."
      ],
      "metadata": {
        "id": "TNfy0Uf4iiPh"
      }
    },
    {
      "cell_type": "markdown",
      "source": [
        "### Step 9: Verify the File Download\n"
      ],
      "metadata": {
        "id": "pdST4vJhijhR"
      }
    },
    {
      "cell_type": "markdown",
      "source": [
        "Once the file is downloaded, we can verify that it has been successfully saved by listing the files in the directory using the `ls` command:"
      ],
      "metadata": {
        "id": "amYjjx2Xik3o"
      }
    },
    {
      "cell_type": "code",
      "source": [
        "!ls"
      ],
      "metadata": {
        "colab": {
          "base_uri": "https://localhost:8080/"
        },
        "id": "V77AFIa0il2Z",
        "outputId": "40b86170-2262-4bfa-a382-4b593403d8d5"
      },
      "execution_count": 13,
      "outputs": [
        {
          "output_type": "stream",
          "name": "stdout",
          "text": [
            "Dataset.csv  sample_data\n"
          ]
        }
      ]
    },
    {
      "cell_type": "markdown",
      "source": [
        "This will display a list of all files in the current directory, including `Dataset.csv` if the download was successful."
      ],
      "metadata": {
        "id": "BMCWc4x5i6VZ"
      }
    },
    {
      "cell_type": "markdown",
      "source": [
        "### Step 10: Load the Dataset Using Spark"
      ],
      "metadata": {
        "id": "6ZoC0Pgvi8Th"
      }
    },
    {
      "cell_type": "markdown",
      "source": [
        "Now, we load the dataset into a Spark DataFrame using the `spark.read.csv()` function. By specifying `header=True`, we tell Spark to treat the first row as column headers. The `sep=\",\"` ensures that the file is treated as a CSV file (comma-separated values):"
      ],
      "metadata": {
        "id": "I8eQcVS-i-pB"
      }
    },
    {
      "cell_type": "code",
      "source": [
        "df = spark.read.csv('Dataset.csv', header=True, sep=\",\")"
      ],
      "metadata": {
        "id": "NfuP-0s5i59p"
      },
      "execution_count": 14,
      "outputs": []
    },
    {
      "cell_type": "markdown",
      "source": [
        "### Step 11: Display the Top 5 Rows"
      ],
      "metadata": {
        "id": "b9b3eHtJjImR"
      }
    },
    {
      "cell_type": "markdown",
      "source": [
        "We can inspect the first few rows of the DataFrame using the `.show()` function. Here, we'll show the top 5 rows:"
      ],
      "metadata": {
        "id": "ZAL3u28njJkA"
      }
    },
    {
      "cell_type": "code",
      "source": [
        "df.show(5)"
      ],
      "metadata": {
        "colab": {
          "base_uri": "https://localhost:8080/"
        },
        "id": "VONs142ijKbo",
        "outputId": "2b00b752-be54-43b0-cf00-688ca9a10d2f"
      },
      "execution_count": 15,
      "outputs": [
        {
          "output_type": "stream",
          "name": "stdout",
          "text": [
            "+---+------+----------+-----------+----------------------------+------------------------+---------------------------------+-------+-------------------------+-------------------+----------------+----------------------------+--------------------+---------+----------+----------------------------+-----------------------+-------------------+--------------------+\n",
            "|Age|Gender|Occupation|Sleep Hours|Physical Activity (hrs/week)|Caffeine Intake (mg/day)|Alcohol Consumption (drinks/week)|Smoking|Family History of Anxiety|Stress Level (1-10)|Heart Rate (bpm)|Breathing Rate (breaths/min)|Sweating Level (1-5)|Dizziness|Medication|Therapy Sessions (per month)|Recent Major Life Event|Diet Quality (1-10)|Anxiety Level (1-10)|\n",
            "+---+------+----------+-----------+----------------------------+------------------------+---------------------------------+-------+-------------------------+-------------------+----------------+----------------------------+--------------------+---------+----------+----------------------------+-----------------------+-------------------+--------------------+\n",
            "| 58|  Male|     Nurse|        6.2|                         1.3|                     192|                               16|     No|                      Yes|                  1|             117|                          21|                   1|       No|       Yes|                           9|                     No|                  1|                 3.0|\n",
            "| 39|Female|  Engineer|        8.6|                         3.8|                     367|                               15|     No|                       No|                 10|             113|                          14|                   3|      Yes|       Yes|                           6|                    Yes|                  3|                 4.0|\n",
            "| 42|Female|    Doctor|        6.6|                         0.5|                     132|                                1|     No|                       No|                 10|              79|                          20|                   1|      Yes|        No|                           1|                     No|                  6|                 6.0|\n",
            "| 43|Female|   Athlete|        7.0|                         1.6|                     361|                               15|     No|                       No|                  4|              69|                          25|                   2|      Yes|        No|                           5|                    Yes|                 10|                 2.0|\n",
            "| 55| Other|   Athlete|        7.6|                         2.8|                     531|                                0|     No|                       No|                  3|              65|                          12|                   4|       No|        No|                           6|                    Yes|                  4|                 4.0|\n",
            "+---+------+----------+-----------+----------------------------+------------------------+---------------------------------+-------+-------------------------+-------------------+----------------+----------------------------+--------------------+---------+----------+----------------------------+-----------------------+-------------------+--------------------+\n",
            "only showing top 5 rows\n",
            "\n"
          ]
        }
      ]
    },
    {
      "cell_type": "markdown",
      "source": [
        "This displays the first 5 rows of the dataset. If you wish to prevent the data from being truncated in the output (i.e., to see the entire row values), you can use:"
      ],
      "metadata": {
        "id": "w99q1I2cjNU5"
      }
    },
    {
      "cell_type": "code",
      "source": [
        "df.show(5, truncate=False)"
      ],
      "metadata": {
        "colab": {
          "base_uri": "https://localhost:8080/"
        },
        "id": "yPgMoKWMjOe5",
        "outputId": "600d47a1-523b-41d6-ff0e-690c7b48852b"
      },
      "execution_count": 16,
      "outputs": [
        {
          "output_type": "stream",
          "name": "stdout",
          "text": [
            "+---+------+----------+-----------+----------------------------+------------------------+---------------------------------+-------+-------------------------+-------------------+----------------+----------------------------+--------------------+---------+----------+----------------------------+-----------------------+-------------------+--------------------+\n",
            "|Age|Gender|Occupation|Sleep Hours|Physical Activity (hrs/week)|Caffeine Intake (mg/day)|Alcohol Consumption (drinks/week)|Smoking|Family History of Anxiety|Stress Level (1-10)|Heart Rate (bpm)|Breathing Rate (breaths/min)|Sweating Level (1-5)|Dizziness|Medication|Therapy Sessions (per month)|Recent Major Life Event|Diet Quality (1-10)|Anxiety Level (1-10)|\n",
            "+---+------+----------+-----------+----------------------------+------------------------+---------------------------------+-------+-------------------------+-------------------+----------------+----------------------------+--------------------+---------+----------+----------------------------+-----------------------+-------------------+--------------------+\n",
            "|58 |Male  |Nurse     |6.2        |1.3                         |192                     |16                               |No     |Yes                      |1                  |117             |21                          |1                   |No       |Yes       |9                           |No                     |1                  |3.0                 |\n",
            "|39 |Female|Engineer  |8.6        |3.8                         |367                     |15                               |No     |No                       |10                 |113             |14                          |3                   |Yes      |Yes       |6                           |Yes                    |3                  |4.0                 |\n",
            "|42 |Female|Doctor    |6.6        |0.5                         |132                     |1                                |No     |No                       |10                 |79              |20                          |1                   |Yes      |No        |1                           |No                     |6                  |6.0                 |\n",
            "|43 |Female|Athlete   |7.0        |1.6                         |361                     |15                               |No     |No                       |4                  |69              |25                          |2                   |Yes      |No        |5                           |Yes                    |10                 |2.0                 |\n",
            "|55 |Other |Athlete   |7.6        |2.8                         |531                     |0                                |No     |No                       |3                  |65              |12                          |4                   |No       |No        |6                           |Yes                    |4                  |4.0                 |\n",
            "+---+------+----------+-----------+----------------------------+------------------------+---------------------------------+-------+-------------------------+-------------------+----------------+----------------------------+--------------------+---------+----------+----------------------------+-----------------------+-------------------+--------------------+\n",
            "only showing top 5 rows\n",
            "\n"
          ]
        }
      ]
    },
    {
      "cell_type": "markdown",
      "source": [
        "### Step 12: Limit to Top 5 Rows"
      ],
      "metadata": {
        "id": "9PuQgoV-jQ3B"
      }
    },
    {
      "cell_type": "markdown",
      "source": [
        "Alternatively, if you want to fetch only the first 5 rows without displaying the full contents, you can use the `limit()` method:"
      ],
      "metadata": {
        "id": "PFqTjfn9jSII"
      }
    },
    {
      "cell_type": "code",
      "source": [
        "df.limit(5)"
      ],
      "metadata": {
        "colab": {
          "base_uri": "https://localhost:8080/"
        },
        "id": "uZWQ7EXJjS-I",
        "outputId": "6b5cbaba-58ed-45fd-e2d2-172dc8e159cb"
      },
      "execution_count": 17,
      "outputs": [
        {
          "output_type": "execute_result",
          "data": {
            "text/plain": [
              "DataFrame[Age: string, Gender: string, Occupation: string, Sleep Hours: string, Physical Activity (hrs/week): string, Caffeine Intake (mg/day): string, Alcohol Consumption (drinks/week): string, Smoking: string, Family History of Anxiety: string, Stress Level (1-10): string, Heart Rate (bpm): string, Breathing Rate (breaths/min): string, Sweating Level (1-5): string, Dizziness: string, Medication: string, Therapy Sessions (per month): string, Recent Major Life Event: string, Diet Quality (1-10): string, Anxiety Level (1-10): string]"
            ]
          },
          "metadata": {},
          "execution_count": 17
        }
      ]
    },
    {
      "cell_type": "markdown",
      "source": [
        "This will return the first 5 rows as a DataFrame, but it will not display them automatically. You can then collect them to view:"
      ],
      "metadata": {
        "id": "GqsgxiPgjURK"
      }
    },
    {
      "cell_type": "code",
      "source": [
        "df.limit(5).collect()"
      ],
      "metadata": {
        "id": "0zUvKKoOjVIY"
      },
      "execution_count": null,
      "outputs": []
    },
    {
      "cell_type": "markdown",
      "source": [
        "### Step 13: Inspect the DataFrame's Columns and Data Types"
      ],
      "metadata": {
        "id": "xYA145p2jWeo"
      }
    },
    {
      "cell_type": "markdown",
      "source": [
        "To check the columns and their data types, you can use the following:"
      ],
      "metadata": {
        "id": "zVHUa_eWjXnI"
      }
    },
    {
      "cell_type": "code",
      "source": [
        "df.columns  # Returns a list of column names"
      ],
      "metadata": {
        "colab": {
          "base_uri": "https://localhost:8080/"
        },
        "id": "gz6n5dXujYjp",
        "outputId": "e6f9396b-e74e-4178-a147-03995358ede7"
      },
      "execution_count": 24,
      "outputs": [
        {
          "output_type": "execute_result",
          "data": {
            "text/plain": [
              "['Age',\n",
              " 'Gender',\n",
              " 'Occupation',\n",
              " 'Sleep Hours',\n",
              " 'Physical Activity (hrs/week)',\n",
              " 'Caffeine Intake (mg/day)',\n",
              " 'Alcohol Consumption (drinks/week)',\n",
              " 'Smoking',\n",
              " 'Family History of Anxiety',\n",
              " 'Stress Level (1-10)',\n",
              " 'Heart Rate (bpm)',\n",
              " 'Breathing Rate (breaths/min)',\n",
              " 'Sweating Level (1-5)',\n",
              " 'Dizziness',\n",
              " 'Medication',\n",
              " 'Therapy Sessions (per month)',\n",
              " 'Recent Major Life Event',\n",
              " 'Diet Quality (1-10)',\n",
              " 'Anxiety Level (1-10)']"
            ]
          },
          "metadata": {},
          "execution_count": 24
        }
      ]
    },
    {
      "cell_type": "markdown",
      "source": [
        "To inspect the data types of each column:"
      ],
      "metadata": {
        "id": "h94tRS0Ujaba"
      }
    },
    {
      "cell_type": "code",
      "source": [
        "df.dtypes  # Returns a list of tuples (column name, column type)"
      ],
      "metadata": {
        "colab": {
          "base_uri": "https://localhost:8080/"
        },
        "id": "wiH0f7trjbaY",
        "outputId": "fc97bdc7-e0c0-47c8-b7cf-19c7d13900c0"
      },
      "execution_count": 19,
      "outputs": [
        {
          "output_type": "execute_result",
          "data": {
            "text/plain": [
              "[('Age', 'string'),\n",
              " ('Gender', 'string'),\n",
              " ('Occupation', 'string'),\n",
              " ('Sleep Hours', 'string'),\n",
              " ('Physical Activity (hrs/week)', 'string'),\n",
              " ('Caffeine Intake (mg/day)', 'string'),\n",
              " ('Alcohol Consumption (drinks/week)', 'string'),\n",
              " ('Smoking', 'string'),\n",
              " ('Family History of Anxiety', 'string'),\n",
              " ('Stress Level (1-10)', 'string'),\n",
              " ('Heart Rate (bpm)', 'string'),\n",
              " ('Breathing Rate (breaths/min)', 'string'),\n",
              " ('Sweating Level (1-5)', 'string'),\n",
              " ('Dizziness', 'string'),\n",
              " ('Medication', 'string'),\n",
              " ('Therapy Sessions (per month)', 'string'),\n",
              " ('Recent Major Life Event', 'string'),\n",
              " ('Diet Quality (1-10)', 'string'),\n",
              " ('Anxiety Level (1-10)', 'string')]"
            ]
          },
          "metadata": {},
          "execution_count": 19
        }
      ]
    },
    {
      "cell_type": "markdown",
      "source": [
        "Finally, to inspect the schema in a more readable format:"
      ],
      "metadata": {
        "id": "e_z4yxy_jdHH"
      }
    },
    {
      "cell_type": "code",
      "source": [
        "df.printSchema()  # Prints the schema with column names and types"
      ],
      "metadata": {
        "colab": {
          "base_uri": "https://localhost:8080/"
        },
        "id": "bHgIoQRjjeOZ",
        "outputId": "e594e2bf-6c78-4d36-df3a-3fbadd93b68e"
      },
      "execution_count": 20,
      "outputs": [
        {
          "output_type": "stream",
          "name": "stdout",
          "text": [
            "root\n",
            " |-- Age: string (nullable = true)\n",
            " |-- Gender: string (nullable = true)\n",
            " |-- Occupation: string (nullable = true)\n",
            " |-- Sleep Hours: string (nullable = true)\n",
            " |-- Physical Activity (hrs/week): string (nullable = true)\n",
            " |-- Caffeine Intake (mg/day): string (nullable = true)\n",
            " |-- Alcohol Consumption (drinks/week): string (nullable = true)\n",
            " |-- Smoking: string (nullable = true)\n",
            " |-- Family History of Anxiety: string (nullable = true)\n",
            " |-- Stress Level (1-10): string (nullable = true)\n",
            " |-- Heart Rate (bpm): string (nullable = true)\n",
            " |-- Breathing Rate (breaths/min): string (nullable = true)\n",
            " |-- Sweating Level (1-5): string (nullable = true)\n",
            " |-- Dizziness: string (nullable = true)\n",
            " |-- Medication: string (nullable = true)\n",
            " |-- Therapy Sessions (per month): string (nullable = true)\n",
            " |-- Recent Major Life Event: string (nullable = true)\n",
            " |-- Diet Quality (1-10): string (nullable = true)\n",
            " |-- Anxiety Level (1-10): string (nullable = true)\n",
            "\n"
          ]
        }
      ]
    },
    {
      "cell_type": "markdown",
      "source": [
        "### Step 14: Enable Schema Inference"
      ],
      "metadata": {
        "id": "gs8eeIY9jfsA"
      }
    },
    {
      "cell_type": "markdown",
      "source": [
        "To ensure that Spark automatically infers the data types for each column, we can set `inferSchema=True` in the `csv()` method. This allows Spark to automatically determine the type of each column (e.g., integers, floats, strings):"
      ],
      "metadata": {
        "id": "QxvwF_Vejg-w"
      }
    },
    {
      "cell_type": "code",
      "source": [
        "df = spark.read.csv('Dataset.csv', header=True, sep=\",\", inferSchema=True)\n"
      ],
      "metadata": {
        "id": "g7EU-7N8jh6R"
      },
      "execution_count": 21,
      "outputs": []
    },
    {
      "cell_type": "markdown",
      "source": [
        "After reading the data with schema inference, you can check the schema again with `printSchema()`:\n"
      ],
      "metadata": {
        "id": "aACFp935jkah"
      }
    },
    {
      "cell_type": "code",
      "source": [
        "df.printSchema()"
      ],
      "metadata": {
        "colab": {
          "base_uri": "https://localhost:8080/"
        },
        "id": "jUoKUeIZjlUS",
        "outputId": "2eea0c42-6513-478e-ec87-9b4e607c3d72"
      },
      "execution_count": 22,
      "outputs": [
        {
          "output_type": "stream",
          "name": "stdout",
          "text": [
            "root\n",
            " |-- Age: integer (nullable = true)\n",
            " |-- Gender: string (nullable = true)\n",
            " |-- Occupation: string (nullable = true)\n",
            " |-- Sleep Hours: double (nullable = true)\n",
            " |-- Physical Activity (hrs/week): double (nullable = true)\n",
            " |-- Caffeine Intake (mg/day): integer (nullable = true)\n",
            " |-- Alcohol Consumption (drinks/week): integer (nullable = true)\n",
            " |-- Smoking: string (nullable = true)\n",
            " |-- Family History of Anxiety: string (nullable = true)\n",
            " |-- Stress Level (1-10): integer (nullable = true)\n",
            " |-- Heart Rate (bpm): integer (nullable = true)\n",
            " |-- Breathing Rate (breaths/min): integer (nullable = true)\n",
            " |-- Sweating Level (1-5): integer (nullable = true)\n",
            " |-- Dizziness: string (nullable = true)\n",
            " |-- Medication: string (nullable = true)\n",
            " |-- Therapy Sessions (per month): integer (nullable = true)\n",
            " |-- Recent Major Life Event: string (nullable = true)\n",
            " |-- Diet Quality (1-10): integer (nullable = true)\n",
            " |-- Anxiety Level (1-10): double (nullable = true)\n",
            "\n"
          ]
        }
      ]
    },
    {
      "cell_type": "markdown",
      "source": [
        "### Step 15: Inspect DataFrame's Columns Again"
      ],
      "metadata": {
        "id": "OjRoARb5jnfA"
      }
    },
    {
      "cell_type": "markdown",
      "source": [
        "To confirm the columns of the DataFrame, you can simply call:\n"
      ],
      "metadata": {
        "id": "QMSZlPi0jopK"
      }
    },
    {
      "cell_type": "code",
      "source": [
        "df.columns  # List of column names"
      ],
      "metadata": {
        "colab": {
          "base_uri": "https://localhost:8080/"
        },
        "id": "D0uBNgp2jqHJ",
        "outputId": "7c0e669f-2bd7-4458-a466-bf69b9f27f62"
      },
      "execution_count": 23,
      "outputs": [
        {
          "output_type": "execute_result",
          "data": {
            "text/plain": [
              "['Age',\n",
              " 'Gender',\n",
              " 'Occupation',\n",
              " 'Sleep Hours',\n",
              " 'Physical Activity (hrs/week)',\n",
              " 'Caffeine Intake (mg/day)',\n",
              " 'Alcohol Consumption (drinks/week)',\n",
              " 'Smoking',\n",
              " 'Family History of Anxiety',\n",
              " 'Stress Level (1-10)',\n",
              " 'Heart Rate (bpm)',\n",
              " 'Breathing Rate (breaths/min)',\n",
              " 'Sweating Level (1-5)',\n",
              " 'Dizziness',\n",
              " 'Medication',\n",
              " 'Therapy Sessions (per month)',\n",
              " 'Recent Major Life Event',\n",
              " 'Diet Quality (1-10)',\n",
              " 'Anxiety Level (1-10)']"
            ]
          },
          "metadata": {},
          "execution_count": 23
        }
      ]
    },
    {
      "cell_type": "markdown",
      "source": [
        "### Step 16: Define Proper Schema and Re-load the Dataset"
      ],
      "metadata": {
        "id": "IaE5Rw8el8r_"
      }
    },
    {
      "cell_type": "markdown",
      "source": [
        "By default, Spark treats all values as `StringType` unless you enable `inferSchema=True`.\n",
        "\n",
        "Let’s define an **explicit schema** for better data types (optional but useful for accuracy and performance):"
      ],
      "metadata": {
        "id": "hkR-cK6OmNEn"
      }
    },
    {
      "cell_type": "code",
      "source": [
        "from pyspark.sql.types import *\n",
        "\n",
        "schema = StructType([\n",
        "    StructField('Age', IntegerType(), True),\n",
        "    StructField('Gender', StringType(), True),\n",
        "    StructField('Occupation', StringType(), True),\n",
        "    StructField('Sleep Hours', FloatType(), True),\n",
        "    StructField('Physical Activity (hrs/week)', FloatType(), True),\n",
        "    StructField('Caffeine Intake (mg/day)', IntegerType(), True),\n",
        "    StructField('Alcohol Consumption (drinks/week)', IntegerType(), True),\n",
        "    StructField('Smoking', StringType(), True),\n",
        "    StructField('Family History of Anxiety', StringType(), True),\n",
        "    StructField('Stress Level (1-10)', IntegerType(), True),\n",
        "    StructField('Heart Rate (bpm)', IntegerType(), True),\n",
        "    StructField('Breathing Rate (breaths/min)', IntegerType(), True),\n",
        "    StructField('Sweating Level (1-5)', IntegerType(), True),\n",
        "    StructField('Dizziness', StringType(), True),\n",
        "    StructField('Medication', StringType(), True),\n",
        "    StructField('Therapy Sessions (per month)', IntegerType(), True),\n",
        "    StructField('Recent Major Life Event', StringType(), True),\n",
        "    StructField('Diet Quality (1-10)', IntegerType(), True),\n",
        "    StructField('Anxiety Level (1-10)', FloatType(), True)\n",
        "])\n",
        "\n",
        "df = spark.read.csv(\"Dataset.csv\", header=True, schema=schema)\n",
        "df.printSchema()"
      ],
      "metadata": {
        "colab": {
          "base_uri": "https://localhost:8080/"
        },
        "id": "SavCubOqmNgB",
        "outputId": "67611386-10cc-449e-9e9c-a9864586d255"
      },
      "execution_count": 25,
      "outputs": [
        {
          "output_type": "stream",
          "name": "stdout",
          "text": [
            "root\n",
            " |-- Age: integer (nullable = true)\n",
            " |-- Gender: string (nullable = true)\n",
            " |-- Occupation: string (nullable = true)\n",
            " |-- Sleep Hours: float (nullable = true)\n",
            " |-- Physical Activity (hrs/week): float (nullable = true)\n",
            " |-- Caffeine Intake (mg/day): integer (nullable = true)\n",
            " |-- Alcohol Consumption (drinks/week): integer (nullable = true)\n",
            " |-- Smoking: string (nullable = true)\n",
            " |-- Family History of Anxiety: string (nullable = true)\n",
            " |-- Stress Level (1-10): integer (nullable = true)\n",
            " |-- Heart Rate (bpm): integer (nullable = true)\n",
            " |-- Breathing Rate (breaths/min): integer (nullable = true)\n",
            " |-- Sweating Level (1-5): integer (nullable = true)\n",
            " |-- Dizziness: string (nullable = true)\n",
            " |-- Medication: string (nullable = true)\n",
            " |-- Therapy Sessions (per month): integer (nullable = true)\n",
            " |-- Recent Major Life Event: string (nullable = true)\n",
            " |-- Diet Quality (1-10): integer (nullable = true)\n",
            " |-- Anxiety Level (1-10): float (nullable = true)\n",
            "\n"
          ]
        }
      ]
    },
    {
      "cell_type": "markdown",
      "source": [
        "### Step 17: Show Sample Data"
      ],
      "metadata": {
        "id": "O91i41rlmT3g"
      }
    },
    {
      "cell_type": "code",
      "source": [
        "df.show(5, truncate=False)"
      ],
      "metadata": {
        "colab": {
          "base_uri": "https://localhost:8080/"
        },
        "id": "BCivKw0NmVFI",
        "outputId": "c289988a-4c50-4467-a99c-2a3d9931f3e3"
      },
      "execution_count": 26,
      "outputs": [
        {
          "output_type": "stream",
          "name": "stdout",
          "text": [
            "+---+------+----------+-----------+----------------------------+------------------------+---------------------------------+-------+-------------------------+-------------------+----------------+----------------------------+--------------------+---------+----------+----------------------------+-----------------------+-------------------+--------------------+\n",
            "|Age|Gender|Occupation|Sleep Hours|Physical Activity (hrs/week)|Caffeine Intake (mg/day)|Alcohol Consumption (drinks/week)|Smoking|Family History of Anxiety|Stress Level (1-10)|Heart Rate (bpm)|Breathing Rate (breaths/min)|Sweating Level (1-5)|Dizziness|Medication|Therapy Sessions (per month)|Recent Major Life Event|Diet Quality (1-10)|Anxiety Level (1-10)|\n",
            "+---+------+----------+-----------+----------------------------+------------------------+---------------------------------+-------+-------------------------+-------------------+----------------+----------------------------+--------------------+---------+----------+----------------------------+-----------------------+-------------------+--------------------+\n",
            "|58 |Male  |Nurse     |6.2        |1.3                         |192                     |16                               |No     |Yes                      |1                  |117             |21                          |1                   |No       |Yes       |9                           |No                     |1                  |3.0                 |\n",
            "|39 |Female|Engineer  |8.6        |3.8                         |367                     |15                               |No     |No                       |10                 |113             |14                          |3                   |Yes      |Yes       |6                           |Yes                    |3                  |4.0                 |\n",
            "|42 |Female|Doctor    |6.6        |0.5                         |132                     |1                                |No     |No                       |10                 |79              |20                          |1                   |Yes      |No        |1                           |No                     |6                  |6.0                 |\n",
            "|43 |Female|Athlete   |7.0        |1.6                         |361                     |15                               |No     |No                       |4                  |69              |25                          |2                   |Yes      |No        |5                           |Yes                    |10                 |2.0                 |\n",
            "|55 |Other |Athlete   |7.6        |2.8                         |531                     |0                                |No     |No                       |3                  |65              |12                          |4                   |No       |No        |6                           |Yes                    |4                  |4.0                 |\n",
            "+---+------+----------+-----------+----------------------------+------------------------+---------------------------------+-------+-------------------------+-------------------+----------------+----------------------------+--------------------+---------+----------+----------------------------+-----------------------+-------------------+--------------------+\n",
            "only showing top 5 rows\n",
            "\n"
          ]
        }
      ]
    },
    {
      "cell_type": "markdown",
      "source": [
        "### Step 18: Selecting Columns"
      ],
      "metadata": {
        "id": "QGeDaC3JmglY"
      }
    },
    {
      "cell_type": "markdown",
      "source": [
        "Select specific column:"
      ],
      "metadata": {
        "id": "8KguTEkImhGA"
      }
    },
    {
      "cell_type": "code",
      "source": [
        "df.select(\"Occupation\").show(5)"
      ],
      "metadata": {
        "colab": {
          "base_uri": "https://localhost:8080/"
        },
        "id": "t4n3GXpcmjBR",
        "outputId": "3dba7c69-c4c0-4bd9-ba5c-e45861181d17"
      },
      "execution_count": 27,
      "outputs": [
        {
          "output_type": "stream",
          "name": "stdout",
          "text": [
            "+----------+\n",
            "|Occupation|\n",
            "+----------+\n",
            "|     Nurse|\n",
            "|  Engineer|\n",
            "|    Doctor|\n",
            "|   Athlete|\n",
            "|   Athlete|\n",
            "+----------+\n",
            "only showing top 5 rows\n",
            "\n"
          ]
        }
      ]
    },
    {
      "cell_type": "markdown",
      "source": [
        "Select multiple columns:"
      ],
      "metadata": {
        "id": "vGJTodXgmlFw"
      }
    },
    {
      "cell_type": "code",
      "source": [
        "df.select(\"Occupation\", \"Stress Level (1-10)\", \"Anxiety Level (1-10)\").show(5)"
      ],
      "metadata": {
        "colab": {
          "base_uri": "https://localhost:8080/"
        },
        "id": "oQ4kGHVymmCo",
        "outputId": "dd9fe85b-56e4-4fa6-99f8-61a73967374e"
      },
      "execution_count": 28,
      "outputs": [
        {
          "output_type": "stream",
          "name": "stdout",
          "text": [
            "+----------+-------------------+--------------------+\n",
            "|Occupation|Stress Level (1-10)|Anxiety Level (1-10)|\n",
            "+----------+-------------------+--------------------+\n",
            "|     Nurse|                  1|                 3.0|\n",
            "|  Engineer|                 10|                 4.0|\n",
            "|    Doctor|                 10|                 6.0|\n",
            "|   Athlete|                  4|                 2.0|\n",
            "|   Athlete|                  3|                 4.0|\n",
            "+----------+-------------------+--------------------+\n",
            "only showing top 5 rows\n",
            "\n"
          ]
        }
      ]
    },
    {
      "cell_type": "markdown",
      "source": [
        "### Step 19: Adding a Column (e.g., `Country = \"Sri Lanka\"`)"
      ],
      "metadata": {
        "id": "8MuUn1-1moHB"
      }
    },
    {
      "cell_type": "code",
      "source": [
        "from pyspark.sql.functions import lit\n",
        "\n",
        "df = df.withColumn(\"Country\", lit(\"Sri Lanka\"))\n",
        "df.show(5)"
      ],
      "metadata": {
        "colab": {
          "base_uri": "https://localhost:8080/"
        },
        "id": "mErpByltmpH5",
        "outputId": "68222be9-d081-439f-ef65-7f91921901e7"
      },
      "execution_count": 29,
      "outputs": [
        {
          "output_type": "stream",
          "name": "stdout",
          "text": [
            "+---+------+----------+-----------+----------------------------+------------------------+---------------------------------+-------+-------------------------+-------------------+----------------+----------------------------+--------------------+---------+----------+----------------------------+-----------------------+-------------------+--------------------+---------+\n",
            "|Age|Gender|Occupation|Sleep Hours|Physical Activity (hrs/week)|Caffeine Intake (mg/day)|Alcohol Consumption (drinks/week)|Smoking|Family History of Anxiety|Stress Level (1-10)|Heart Rate (bpm)|Breathing Rate (breaths/min)|Sweating Level (1-5)|Dizziness|Medication|Therapy Sessions (per month)|Recent Major Life Event|Diet Quality (1-10)|Anxiety Level (1-10)|  Country|\n",
            "+---+------+----------+-----------+----------------------------+------------------------+---------------------------------+-------+-------------------------+-------------------+----------------+----------------------------+--------------------+---------+----------+----------------------------+-----------------------+-------------------+--------------------+---------+\n",
            "| 58|  Male|     Nurse|        6.2|                         1.3|                     192|                               16|     No|                      Yes|                  1|             117|                          21|                   1|       No|       Yes|                           9|                     No|                  1|                 3.0|Sri Lanka|\n",
            "| 39|Female|  Engineer|        8.6|                         3.8|                     367|                               15|     No|                       No|                 10|             113|                          14|                   3|      Yes|       Yes|                           6|                    Yes|                  3|                 4.0|Sri Lanka|\n",
            "| 42|Female|    Doctor|        6.6|                         0.5|                     132|                                1|     No|                       No|                 10|              79|                          20|                   1|      Yes|        No|                           1|                     No|                  6|                 6.0|Sri Lanka|\n",
            "| 43|Female|   Athlete|        7.0|                         1.6|                     361|                               15|     No|                       No|                  4|              69|                          25|                   2|      Yes|        No|                           5|                    Yes|                 10|                 2.0|Sri Lanka|\n",
            "| 55| Other|   Athlete|        7.6|                         2.8|                     531|                                0|     No|                       No|                  3|              65|                          12|                   4|       No|        No|                           6|                    Yes|                  4|                 4.0|Sri Lanka|\n",
            "+---+------+----------+-----------+----------------------------+------------------------+---------------------------------+-------+-------------------------+-------------------+----------------+----------------------------+--------------------+---------+----------+----------------------------+-----------------------+-------------------+--------------------+---------+\n",
            "only showing top 5 rows\n",
            "\n"
          ]
        }
      ]
    },
    {
      "cell_type": "markdown",
      "source": [
        "### Step 20: Renaming Columns"
      ],
      "metadata": {
        "id": "ussdJZhWmsR4"
      }
    },
    {
      "cell_type": "markdown",
      "source": [
        "Suppose you want to rename `\"Stress Level (1-10)\"` to just `\"Stress Level\"`:\n"
      ],
      "metadata": {
        "id": "ep_ihDGGmtVQ"
      }
    },
    {
      "cell_type": "code",
      "source": [
        "df = df.withColumnRenamed(\"Stress Level (1-10)\", \"Stress Level\")\n"
      ],
      "metadata": {
        "id": "jYZk4tLkmuLn"
      },
      "execution_count": null,
      "outputs": []
    },
    {
      "cell_type": "markdown",
      "source": [
        "You can do the same for other long column names to make analysis easier.\n"
      ],
      "metadata": {
        "id": "n324ky9RmvD4"
      }
    },
    {
      "cell_type": "markdown",
      "source": [
        "### Step 21: Drop Unneeded Columns\n"
      ],
      "metadata": {
        "id": "647rw5ENmv7Y"
      }
    },
    {
      "cell_type": "markdown",
      "source": [
        "Let’s say we want to drop `Dizziness` and `Medication`:\n"
      ],
      "metadata": {
        "id": "iD87lyJymxG3"
      }
    },
    {
      "cell_type": "code",
      "source": [
        "df = df.drop(\"Dizziness\", \"Medication\")\n"
      ],
      "metadata": {
        "id": "4qHeXjjvmyVw"
      },
      "execution_count": null,
      "outputs": []
    },
    {
      "cell_type": "markdown",
      "source": [
        "### Step 22: Filter Rows\n"
      ],
      "metadata": {
        "id": "w-sEMqjSmzQz"
      }
    },
    {
      "cell_type": "markdown",
      "source": [
        "Filter people who sleep less than 6 hours:"
      ],
      "metadata": {
        "id": "ulpipX44m03o"
      }
    },
    {
      "cell_type": "code",
      "source": [
        "from pyspark.sql.functions import col\n",
        "\n",
        "df.filter(col(\"Sleep Hours\") < 6).show()"
      ],
      "metadata": {
        "colab": {
          "base_uri": "https://localhost:8080/"
        },
        "id": "PmExtXsBm2Wn",
        "outputId": "ec35cd66-8526-47bc-ec7e-e9501f9d140f"
      },
      "execution_count": 30,
      "outputs": [
        {
          "output_type": "stream",
          "name": "stdout",
          "text": [
            "+---+------+----------+-----------+----------------------------+------------------------+---------------------------------+-------+-------------------------+-------------------+----------------+----------------------------+--------------------+---------+----------+----------------------------+-----------------------+-------------------+--------------------+---------+\n",
            "|Age|Gender|Occupation|Sleep Hours|Physical Activity (hrs/week)|Caffeine Intake (mg/day)|Alcohol Consumption (drinks/week)|Smoking|Family History of Anxiety|Stress Level (1-10)|Heart Rate (bpm)|Breathing Rate (breaths/min)|Sweating Level (1-5)|Dizziness|Medication|Therapy Sessions (per month)|Recent Major Life Event|Diet Quality (1-10)|Anxiety Level (1-10)|  Country|\n",
            "+---+------+----------+-----------+----------------------------+------------------------+---------------------------------+-------+-------------------------+-------------------+----------------+----------------------------+--------------------+---------+----------+----------------------------+-----------------------+-------------------+--------------------+---------+\n",
            "| 53|Female|   Student|        4.3|                         3.9|                     316|                               18|    Yes|                       No|                  7|              65|                          17|                   1|      Yes|        No|                           6|                     No|                  8|                 3.0|Sri Lanka|\n",
            "| 52|  Male|     Other|        4.2|                         4.9|                     123|                                3|     No|                       No|                 10|              96|                          14|                   4|       No|       Yes|                           0|                     No|                 10|                 4.0|Sri Lanka|\n",
            "| 20|Female|  Engineer|        4.8|                         0.4|                     533|                                5|     No|                      Yes|                  8|             119|                          21|                   3|      Yes|        No|                           6|                    Yes|                  2|                10.0|Sri Lanka|\n",
            "| 31| Other| Scientist|        4.4|                         0.6|                      84|                                1|    Yes|                       No|                  8|              98|                          23|                   1|      Yes|        No|                           6|                     No|                  8|                 7.0|Sri Lanka|\n",
            "| 37| Other|   Teacher|        5.8|                         0.1|                     443|                                1|     No|                       No|                  8|              65|                          12|                   2|      Yes|        No|                           3|                     No|                  2|                 5.0|Sri Lanka|\n",
            "| 35|Female|    Doctor|        5.0|                         1.3|                     360|                               12|     No|                       No|                  8|             101|                          29|                   4|      Yes|       Yes|                           6|                    Yes|                  3|                10.0|Sri Lanka|\n",
            "| 40| Other|    Artist|        5.0|                         0.0|                     425|                                9|     No|                       No|                  8|              93|                          22|                   4|      Yes|        No|                           4|                    Yes|                  3|                10.0|Sri Lanka|\n",
            "| 49| Other|      Chef|        3.4|                         1.1|                     483|                               11|     No|                       No|                 10|             100|                          24|                   3|      Yes|       Yes|                           8|                    Yes|                  4|                 8.0|Sri Lanka|\n",
            "| 21|  Male|  Musician|        3.9|                         1.4|                     371|                                6|     No|                       No|                 10|              99|                          24|                   4|       No|        No|                           7|                     No|                  4|                10.0|Sri Lanka|\n",
            "| 44| Other|   Teacher|        4.5|                         4.4|                     518|                                8|     No|                       No|                  5|              86|                          22|                   2|      Yes|        No|                           1|                     No|                  2|                 2.0|Sri Lanka|\n",
            "| 50|Female|      Chef|        3.6|                         4.6|                     185|                               18|    Yes|                       No|                  2|              61|                          17|                   5|       No|        No|                           2|                    Yes|                  9|                 1.0|Sri Lanka|\n",
            "| 41|  Male|  Engineer|        2.6|                         3.3|                     569|                               13|     No|                       No|                  1|              71|                          14|                   1|       No|        No|                           0|                     No|                  1|                 2.0|Sri Lanka|\n",
            "| 47| Other|     Other|        5.0|                         1.9|                     465|                               14|     No|                       No|                  8|             114|                          24|                   5|      Yes|        No|                           7|                    Yes|                  2|                10.0|Sri Lanka|\n",
            "| 61|Female|  Engineer|        5.0|                         3.0|                     197|                                8|    Yes|                       No|                  3|              74|                          17|                   5|      Yes|        No|                           8|                    Yes|                  2|                 4.0|Sri Lanka|\n",
            "| 21|  Male|    Doctor|        5.5|                         2.3|                     542|                                5|     No|                       No|                  5|              62|                          18|                   1|       No|        No|                           4|                     No|                  7|                 5.0|Sri Lanka|\n",
            "| 24| Other|   Teacher|        4.9|                         5.3|                     143|                               12|     No|                       No|                  2|             104|                          25|                   2|      Yes|       Yes|                           0|                     No|                  1|                 4.0|Sri Lanka|\n",
            "| 27|Female|   Student|        4.0|                         0.6|                     396|                                8|     No|                      Yes|                 10|             100|                          21|                   4|       No|        No|                           8|                    Yes|                  1|                 8.0|Sri Lanka|\n",
            "| 33| Other|   Teacher|        4.3|                         0.9|                     471|                                4|     No|                       No|                  3|              98|                          14|                   1|      Yes|       Yes|                           9|                     No|                  8|                 5.0|Sri Lanka|\n",
            "| 24|Female| Scientist|        2.5|                         5.8|                     444|                               10|    Yes|                       No|                  5|              78|                          13|                   5|       No|       Yes|                           0|                    Yes|                  1|                 2.0|Sri Lanka|\n",
            "| 49|Female|     Nurse|        2.8|                         4.2|                     489|                                3|     No|                       No|                  7|              88|                          14|                   1|       No|       Yes|                           7|                    Yes|                  2|                 6.0|Sri Lanka|\n",
            "+---+------+----------+-----------+----------------------------+------------------------+---------------------------------+-------+-------------------------+-------------------+----------------+----------------------------+--------------------+---------+----------+----------------------------+-----------------------+-------------------+--------------------+---------+\n",
            "only showing top 20 rows\n",
            "\n"
          ]
        }
      ]
    },
    {
      "cell_type": "markdown",
      "source": [
        "Filter people with stress level > 7 and caffeine intake > 300:"
      ],
      "metadata": {
        "id": "cyB2EWtMm4i4"
      }
    },
    {
      "cell_type": "code",
      "source": [
        "df.filter(\n",
        "    (col(\"Stress Level (1-10)\") > 7) & (col(\"Caffeine Intake (mg/day)\") > 300)\n",
        ").show()"
      ],
      "metadata": {
        "colab": {
          "base_uri": "https://localhost:8080/"
        },
        "id": "p7jR-8VYm4Mh",
        "outputId": "e420729f-086e-4cc1-ca3b-2a8af5916c54"
      },
      "execution_count": 32,
      "outputs": [
        {
          "output_type": "stream",
          "name": "stdout",
          "text": [
            "+---+------+----------+-----------+----------------------------+------------------------+---------------------------------+-------+-------------------------+-------------------+----------------+----------------------------+--------------------+---------+----------+----------------------------+-----------------------+-------------------+--------------------+---------+\n",
            "|Age|Gender|Occupation|Sleep Hours|Physical Activity (hrs/week)|Caffeine Intake (mg/day)|Alcohol Consumption (drinks/week)|Smoking|Family History of Anxiety|Stress Level (1-10)|Heart Rate (bpm)|Breathing Rate (breaths/min)|Sweating Level (1-5)|Dizziness|Medication|Therapy Sessions (per month)|Recent Major Life Event|Diet Quality (1-10)|Anxiety Level (1-10)|  Country|\n",
            "+---+------+----------+-----------+----------------------------+------------------------+---------------------------------+-------+-------------------------+-------------------+----------------+----------------------------+--------------------+---------+----------+----------------------------+-----------------------+-------------------+--------------------+---------+\n",
            "| 39|Female|  Engineer|        8.6|                         3.8|                     367|                               15|     No|                       No|                 10|             113|                          14|                   3|      Yes|       Yes|                           6|                    Yes|                  3|                 4.0|Sri Lanka|\n",
            "| 62|Female|   Athlete|        6.2|                         2.5|                     507|                                6|     No|                       No|                 10|              90|                          13|                   3|       No|       Yes|                           1|                    Yes|                  1|                 5.0|Sri Lanka|\n",
            "| 59|Female|      Chef|        8.1|                         0.5|                     334|                               19|    Yes|                       No|                  8|             117|                          24|                   4|      Yes|       Yes|                           6|                     No|                  4|                 4.0|Sri Lanka|\n",
            "| 20|Female|  Engineer|        4.8|                         0.4|                     533|                                5|     No|                      Yes|                  8|             119|                          21|                   3|      Yes|        No|                           6|                    Yes|                  2|                10.0|Sri Lanka|\n",
            "| 37| Other|   Teacher|        5.8|                         0.1|                     443|                                1|     No|                       No|                  8|              65|                          12|                   2|      Yes|        No|                           3|                     No|                  2|                 5.0|Sri Lanka|\n",
            "| 35|Female|    Doctor|        5.0|                         1.3|                     360|                               12|     No|                       No|                  8|             101|                          29|                   4|      Yes|       Yes|                           6|                    Yes|                  3|                10.0|Sri Lanka|\n",
            "| 21|Female|   Athlete|        8.7|                         2.3|                     495|                               16|     No|                       No|                 10|              91|                          29|                   1|      Yes|        No|                           9|                    Yes|                  3|                 7.0|Sri Lanka|\n",
            "| 40| Other|    Artist|        5.0|                         0.0|                     425|                                9|     No|                       No|                  8|              93|                          22|                   4|      Yes|        No|                           4|                    Yes|                  3|                10.0|Sri Lanka|\n",
            "| 49| Other|      Chef|        3.4|                         1.1|                     483|                               11|     No|                       No|                 10|             100|                          24|                   3|      Yes|       Yes|                           8|                    Yes|                  4|                 8.0|Sri Lanka|\n",
            "| 21|  Male|  Musician|        3.9|                         1.4|                     371|                                6|     No|                       No|                 10|              99|                          24|                   4|       No|        No|                           7|                     No|                  4|                10.0|Sri Lanka|\n",
            "| 52|  Male| Scientist|        6.9|                         2.7|                     575|                               11|     No|                       No|                  9|             103|                          19|                   2|      Yes|       Yes|                           0|                     No|                  1|                 3.0|Sri Lanka|\n",
            "| 47| Other|     Other|        5.0|                         1.9|                     465|                               14|     No|                       No|                  8|             114|                          24|                   5|      Yes|        No|                           7|                    Yes|                  2|                10.0|Sri Lanka|\n",
            "| 27|Female|   Student|        4.0|                         0.6|                     396|                                8|     No|                      Yes|                 10|             100|                          21|                   4|       No|        No|                           8|                    Yes|                  1|                 8.0|Sri Lanka|\n",
            "| 19|  Male|    Artist|        6.9|                         0.6|                     570|                                4|    Yes|                       No|                  8|              85|                          20|                   2|       No|       Yes|                           7|                    Yes|                 10|                 7.0|Sri Lanka|\n",
            "| 40|Female|   Athlete|        8.0|                         4.6|                     475|                               11|     No|                       No|                  9|              86|                          14|                   1|       No|       Yes|                           5|                     No|                  8|                 5.0|Sri Lanka|\n",
            "| 61| Other|Freelancer|        8.3|                         0.1|                     345|                                3|     No|                       No|                 10|             111|                          28|                   1|       No|       Yes|                           3|                     No|                  5|                 5.0|Sri Lanka|\n",
            "| 21|  Male|   Athlete|        9.0|                         1.2|                     356|                               10|     No|                       No|                 10|             114|                          12|                   5|      Yes|       Yes|                           9|                    Yes|                  9|                 5.0|Sri Lanka|\n",
            "| 27|  Male| Scientist|        9.8|                         0.5|                     553|                                4|     No|                       No|                  9|              62|                          15|                   3|       No|       Yes|                           9|                     No|                  7|                 4.0|Sri Lanka|\n",
            "| 33|  Male|    Lawyer|        4.8|                         1.5|                     528|                               13|     No|                       No|                  9|              92|                          29|                   3|       No|        No|                           9|                     No|                  2|                 9.0|Sri Lanka|\n",
            "| 52| Other|Freelancer|        8.8|                         4.8|                     329|                               17|    Yes|                       No|                  9|              80|                          22|                   4|       No|       Yes|                           1|                    Yes|                 10|                 5.0|Sri Lanka|\n",
            "+---+------+----------+-----------+----------------------------+------------------------+---------------------------------+-------+-------------------------+-------------------+----------------+----------------------------+--------------------+---------+----------+----------------------------+-----------------------+-------------------+--------------------+---------+\n",
            "only showing top 20 rows\n",
            "\n"
          ]
        }
      ]
    },
    {
      "cell_type": "markdown",
      "source": [
        "### Step 23: GroupBy and Aggregations"
      ],
      "metadata": {
        "id": "yrCj_e1hnIIR"
      }
    },
    {
      "cell_type": "markdown",
      "source": [
        "Count of people per occupation:"
      ],
      "metadata": {
        "id": "v9tuWoNunJSI"
      }
    },
    {
      "cell_type": "code",
      "source": [
        "df.groupBy(\"Occupation\").count().orderBy(\"count\", ascending=False).show()\n"
      ],
      "metadata": {
        "colab": {
          "base_uri": "https://localhost:8080/"
        },
        "id": "5lHBw7yhnKSo",
        "outputId": "109f046c-8b5e-4629-cc56-2bafb1298a05"
      },
      "execution_count": 33,
      "outputs": [
        {
          "output_type": "stream",
          "name": "stdout",
          "text": [
            "+----------+-----+\n",
            "|Occupation|count|\n",
            "+----------+-----+\n",
            "| Scientist|  880|\n",
            "|   Teacher|  871|\n",
            "|    Artist|  870|\n",
            "|  Engineer|  868|\n",
            "|Freelancer|  864|\n",
            "|     Other|  858|\n",
            "|    Lawyer|  854|\n",
            "|   Athlete|  847|\n",
            "|     Nurse|  833|\n",
            "|   Student|  826|\n",
            "|    Doctor|  815|\n",
            "|      Chef|  813|\n",
            "|  Musician|  801|\n",
            "+----------+-----+\n",
            "\n"
          ]
        }
      ]
    },
    {
      "cell_type": "markdown",
      "source": [
        "Average anxiety level by gender:"
      ],
      "metadata": {
        "id": "05hW3AUpnKuP"
      }
    },
    {
      "cell_type": "code",
      "source": [
        "df.groupBy(\"Gender\").avg(\"Anxiety Level (1-10)\").show()\n"
      ],
      "metadata": {
        "colab": {
          "base_uri": "https://localhost:8080/"
        },
        "id": "HOlkIKEnnMrp",
        "outputId": "06b2987d-49e5-46e9-8a36-278b12c9d037"
      },
      "execution_count": 34,
      "outputs": [
        {
          "output_type": "stream",
          "name": "stdout",
          "text": [
            "+------+-------------------------+\n",
            "|Gender|avg(Anxiety Level (1-10))|\n",
            "+------+-------------------------+\n",
            "|Female|        4.150496141124586|\n",
            "| Other|         4.14031300593632|\n",
            "|  Male|        4.157665030005456|\n",
            "+------+-------------------------+\n",
            "\n"
          ]
        }
      ]
    },
    {
      "cell_type": "markdown",
      "source": [
        "### Step 24: Sort Data"
      ],
      "metadata": {
        "id": "mxqdvikUm2mA"
      }
    },
    {
      "cell_type": "markdown",
      "source": [
        "Sort by `Anxiety Level` descending:"
      ],
      "metadata": {
        "id": "GSvmC5jenQ-A"
      }
    },
    {
      "cell_type": "code",
      "source": [
        "df.orderBy(col(\"Anxiety Level (1-10)\").desc()).show()\n"
      ],
      "metadata": {
        "colab": {
          "base_uri": "https://localhost:8080/"
        },
        "id": "ZUT1VsVHnSx4",
        "outputId": "647f6d3b-f072-4e85-9b1e-4568214d4163"
      },
      "execution_count": 35,
      "outputs": [
        {
          "output_type": "stream",
          "name": "stdout",
          "text": [
            "+---+------+----------+-----------+----------------------------+------------------------+---------------------------------+-------+-------------------------+-------------------+----------------+----------------------------+--------------------+---------+----------+----------------------------+-----------------------+-------------------+--------------------+---------+\n",
            "|Age|Gender|Occupation|Sleep Hours|Physical Activity (hrs/week)|Caffeine Intake (mg/day)|Alcohol Consumption (drinks/week)|Smoking|Family History of Anxiety|Stress Level (1-10)|Heart Rate (bpm)|Breathing Rate (breaths/min)|Sweating Level (1-5)|Dizziness|Medication|Therapy Sessions (per month)|Recent Major Life Event|Diet Quality (1-10)|Anxiety Level (1-10)|  Country|\n",
            "+---+------+----------+-----------+----------------------------+------------------------+---------------------------------+-------+-------------------------+-------------------+----------------+----------------------------+--------------------+---------+----------+----------------------------+-----------------------+-------------------+--------------------+---------+\n",
            "| 29| Other|Freelancer|        5.9|                         0.4|                     372|                               13|     No|                       No|                 10|              97|                          21|                   4|       No|       Yes|                           8|                    Yes|                  3|                10.0|Sri Lanka|\n",
            "| 26|Female|    Lawyer|        3.5|                         0.7|                     345|                               14|     No|                       No|                  8|              98|                          28|                   5|      Yes|       Yes|                           4|                    Yes|                  4|                10.0|Sri Lanka|\n",
            "| 25|Female|    Artist|        5.2|                         0.7|                     564|                               11|     No|                       No|                  8|             112|                          21|                   5|      Yes|        No|                           5|                    Yes|                  2|                10.0|Sri Lanka|\n",
            "| 35|Female|    Doctor|        5.0|                         1.3|                     360|                               12|     No|                       No|                  8|             101|                          29|                   4|      Yes|       Yes|                           6|                    Yes|                  3|                10.0|Sri Lanka|\n",
            "| 41|  Male|      Chef|        4.3|                         0.2|                     573|                                7|     No|                       No|                 10|              93|                          20|                   3|      Yes|       Yes|                           5|                    Yes|                  1|                10.0|Sri Lanka|\n",
            "| 21|  Male|  Musician|        3.9|                         1.4|                     371|                                6|     No|                       No|                 10|              99|                          24|                   4|       No|        No|                           7|                     No|                  4|                10.0|Sri Lanka|\n",
            "| 23| Other|   Athlete|        3.8|                         1.0|                     340|                                8|     No|                       No|                  8|             104|                          22|                   4|      Yes|        No|                           5|                     No|                  2|                10.0|Sri Lanka|\n",
            "| 47| Other|Freelancer|        5.7|                         0.6|                     509|                               10|     No|                       No|                  9|             108|                          26|                   5|       No|        No|                           9|                    Yes|                  2|                10.0|Sri Lanka|\n",
            "| 48|Female|   Student|        2.7|                         1.3|                     373|                               11|     No|                       No|                 10|             107|                          26|                   3|       No|       Yes|                           7|                     No|                  4|                10.0|Sri Lanka|\n",
            "| 28| Other|   Student|        4.5|                         1.1|                     364|                               11|     No|                       No|                 10|             118|                          25|                   5|      Yes|       Yes|                           4|                    Yes|                  1|                10.0|Sri Lanka|\n",
            "| 37|  Male|Freelancer|        4.9|                         1.6|                     365|                               19|    Yes|                       No|                  9|             112|                          26|                   4|       No|        No|                           9|                    Yes|                  1|                10.0|Sri Lanka|\n",
            "| 39|  Male|    Doctor|        4.6|                         0.9|                     436|                               19|    Yes|                       No|                 10|              91|                          24|                   3|       No|       Yes|                           7|                     No|                  2|                10.0|Sri Lanka|\n",
            "| 30|Female|     Other|        5.4|                         0.4|                     384|                               15|     No|                       No|                 10|             113|                          23|                   3|      Yes|        No|                           4|                     No|                  4|                10.0|Sri Lanka|\n",
            "| 42|Female|     Other|        5.3|                         0.8|                     599|                               18|     No|                       No|                  8|             115|                          21|                   4|      Yes|       Yes|                           5|                     No|                  4|                10.0|Sri Lanka|\n",
            "| 45| Other| Scientist|        5.4|                         2.0|                     315|                               18|    Yes|                      Yes|                  9|              90|                          25|                   5|      Yes|       Yes|                           9|                     No|                  3|                10.0|Sri Lanka|\n",
            "| 47| Other|    Doctor|        4.9|                         0.5|                     534|                                5|     No|                       No|                  9|              97|                          20|                   3|       No|       Yes|                           7|                    Yes|                  1|                10.0|Sri Lanka|\n",
            "| 39|  Male|  Musician|        4.1|                         1.1|                     487|                               13|     No|                       No|                  8|              94|                          20|                   4|      Yes|       Yes|                           6|                    Yes|                  1|                10.0|Sri Lanka|\n",
            "| 33|  Male|    Doctor|        4.5|                         0.5|                     480|                               17|     No|                       No|                 10|             118|                          21|                   4|      Yes|       Yes|                           8|                    Yes|                  1|                10.0|Sri Lanka|\n",
            "| 33| Other|    Doctor|        5.3|                         1.1|                     506|                               13|     No|                       No|                 10|             100|                          26|                   3|       No|        No|                           8|                    Yes|                  2|                10.0|Sri Lanka|\n",
            "| 31| Other| Scientist|        5.1|                         1.1|                     343|                                7|     No|                       No|                  8|              93|                          24|                   5|      Yes|        No|                           9|                    Yes|                  2|                10.0|Sri Lanka|\n",
            "+---+------+----------+-----------+----------------------------+------------------------+---------------------------------+-------+-------------------------+-------------------+----------------+----------------------------+--------------------+---------+----------+----------------------------+-----------------------+-------------------+--------------------+---------+\n",
            "only showing top 20 rows\n",
            "\n"
          ]
        }
      ]
    },
    {
      "cell_type": "markdown",
      "source": [
        "### Step 25: Use Spark SQL"
      ],
      "metadata": {
        "id": "jCxOyOGPnUIQ"
      }
    },
    {
      "cell_type": "markdown",
      "source": [
        "Register the DataFrame as a temp table:\n"
      ],
      "metadata": {
        "id": "69WlN2cQnVIZ"
      }
    },
    {
      "cell_type": "code",
      "source": [
        "df.createOrReplaceTempView(\"anxiety_data\")\n"
      ],
      "metadata": {
        "id": "4ufjDeY7nWK4"
      },
      "execution_count": 36,
      "outputs": []
    },
    {
      "cell_type": "markdown",
      "source": [
        "### Example SQL queries:"
      ],
      "metadata": {
        "id": "aaks_tqrnX-3"
      }
    },
    {
      "cell_type": "code",
      "source": [
        "spark.sql(\"SELECT * FROM anxiety_data WHERE `Sleep Hours` < 6\").show()\n",
        "spark.sql(\"SELECT AVG(`Anxiety Level (1-10)`) as avg_anxiety FROM anxiety_data\").show()"
      ],
      "metadata": {
        "colab": {
          "base_uri": "https://localhost:8080/"
        },
        "id": "mtIKoiUsnY-Z",
        "outputId": "14fe7ec8-b25e-4849-dbe8-2bb59f3ca7af"
      },
      "execution_count": 37,
      "outputs": [
        {
          "output_type": "stream",
          "name": "stdout",
          "text": [
            "+---+------+----------+-----------+----------------------------+------------------------+---------------------------------+-------+-------------------------+-------------------+----------------+----------------------------+--------------------+---------+----------+----------------------------+-----------------------+-------------------+--------------------+---------+\n",
            "|Age|Gender|Occupation|Sleep Hours|Physical Activity (hrs/week)|Caffeine Intake (mg/day)|Alcohol Consumption (drinks/week)|Smoking|Family History of Anxiety|Stress Level (1-10)|Heart Rate (bpm)|Breathing Rate (breaths/min)|Sweating Level (1-5)|Dizziness|Medication|Therapy Sessions (per month)|Recent Major Life Event|Diet Quality (1-10)|Anxiety Level (1-10)|  Country|\n",
            "+---+------+----------+-----------+----------------------------+------------------------+---------------------------------+-------+-------------------------+-------------------+----------------+----------------------------+--------------------+---------+----------+----------------------------+-----------------------+-------------------+--------------------+---------+\n",
            "| 53|Female|   Student|        4.3|                         3.9|                     316|                               18|    Yes|                       No|                  7|              65|                          17|                   1|      Yes|        No|                           6|                     No|                  8|                 3.0|Sri Lanka|\n",
            "| 52|  Male|     Other|        4.2|                         4.9|                     123|                                3|     No|                       No|                 10|              96|                          14|                   4|       No|       Yes|                           0|                     No|                 10|                 4.0|Sri Lanka|\n",
            "| 20|Female|  Engineer|        4.8|                         0.4|                     533|                                5|     No|                      Yes|                  8|             119|                          21|                   3|      Yes|        No|                           6|                    Yes|                  2|                10.0|Sri Lanka|\n",
            "| 31| Other| Scientist|        4.4|                         0.6|                      84|                                1|    Yes|                       No|                  8|              98|                          23|                   1|      Yes|        No|                           6|                     No|                  8|                 7.0|Sri Lanka|\n",
            "| 37| Other|   Teacher|        5.8|                         0.1|                     443|                                1|     No|                       No|                  8|              65|                          12|                   2|      Yes|        No|                           3|                     No|                  2|                 5.0|Sri Lanka|\n",
            "| 35|Female|    Doctor|        5.0|                         1.3|                     360|                               12|     No|                       No|                  8|             101|                          29|                   4|      Yes|       Yes|                           6|                    Yes|                  3|                10.0|Sri Lanka|\n",
            "| 40| Other|    Artist|        5.0|                         0.0|                     425|                                9|     No|                       No|                  8|              93|                          22|                   4|      Yes|        No|                           4|                    Yes|                  3|                10.0|Sri Lanka|\n",
            "| 49| Other|      Chef|        3.4|                         1.1|                     483|                               11|     No|                       No|                 10|             100|                          24|                   3|      Yes|       Yes|                           8|                    Yes|                  4|                 8.0|Sri Lanka|\n",
            "| 21|  Male|  Musician|        3.9|                         1.4|                     371|                                6|     No|                       No|                 10|              99|                          24|                   4|       No|        No|                           7|                     No|                  4|                10.0|Sri Lanka|\n",
            "| 44| Other|   Teacher|        4.5|                         4.4|                     518|                                8|     No|                       No|                  5|              86|                          22|                   2|      Yes|        No|                           1|                     No|                  2|                 2.0|Sri Lanka|\n",
            "| 50|Female|      Chef|        3.6|                         4.6|                     185|                               18|    Yes|                       No|                  2|              61|                          17|                   5|       No|        No|                           2|                    Yes|                  9|                 1.0|Sri Lanka|\n",
            "| 41|  Male|  Engineer|        2.6|                         3.3|                     569|                               13|     No|                       No|                  1|              71|                          14|                   1|       No|        No|                           0|                     No|                  1|                 2.0|Sri Lanka|\n",
            "| 47| Other|     Other|        5.0|                         1.9|                     465|                               14|     No|                       No|                  8|             114|                          24|                   5|      Yes|        No|                           7|                    Yes|                  2|                10.0|Sri Lanka|\n",
            "| 61|Female|  Engineer|        5.0|                         3.0|                     197|                                8|    Yes|                       No|                  3|              74|                          17|                   5|      Yes|        No|                           8|                    Yes|                  2|                 4.0|Sri Lanka|\n",
            "| 21|  Male|    Doctor|        5.5|                         2.3|                     542|                                5|     No|                       No|                  5|              62|                          18|                   1|       No|        No|                           4|                     No|                  7|                 5.0|Sri Lanka|\n",
            "| 24| Other|   Teacher|        4.9|                         5.3|                     143|                               12|     No|                       No|                  2|             104|                          25|                   2|      Yes|       Yes|                           0|                     No|                  1|                 4.0|Sri Lanka|\n",
            "| 27|Female|   Student|        4.0|                         0.6|                     396|                                8|     No|                      Yes|                 10|             100|                          21|                   4|       No|        No|                           8|                    Yes|                  1|                 8.0|Sri Lanka|\n",
            "| 33| Other|   Teacher|        4.3|                         0.9|                     471|                                4|     No|                       No|                  3|              98|                          14|                   1|      Yes|       Yes|                           9|                     No|                  8|                 5.0|Sri Lanka|\n",
            "| 24|Female| Scientist|        2.5|                         5.8|                     444|                               10|    Yes|                       No|                  5|              78|                          13|                   5|       No|       Yes|                           0|                    Yes|                  1|                 2.0|Sri Lanka|\n",
            "| 49|Female|     Nurse|        2.8|                         4.2|                     489|                                3|     No|                       No|                  7|              88|                          14|                   1|       No|       Yes|                           7|                    Yes|                  2|                 6.0|Sri Lanka|\n",
            "+---+------+----------+-----------+----------------------------+------------------------+---------------------------------+-------+-------------------------+-------------------+----------------+----------------------------+--------------------+---------+----------+----------------------------+-----------------------+-------------------+--------------------+---------+\n",
            "only showing top 20 rows\n",
            "\n",
            "+-----------------+\n",
            "|      avg_anxiety|\n",
            "+-----------------+\n",
            "|4.149454545454545|\n",
            "+-----------------+\n",
            "\n"
          ]
        }
      ]
    },
    {
      "cell_type": "markdown",
      "source": [
        "### Step 26: Convert to Pandas for Plotting"
      ],
      "metadata": {
        "id": "ulxppGhFnbGg"
      }
    },
    {
      "cell_type": "markdown",
      "source": [
        "If you want to visualize `Anxiety Level`, e.g., distribution:\n"
      ],
      "metadata": {
        "id": "Rp_Rkq8Xnfb4"
      }
    },
    {
      "cell_type": "code",
      "source": [
        "import matplotlib.pyplot as plt\n",
        "\n",
        "# Convert to Pandas DataFrame\n",
        "pandas_df = df.select(\"Anxiety Level (1-10)\").toPandas()\n",
        "\n",
        "# Plot histogram\n",
        "plt.figure(figsize=(8,5))\n",
        "plt.hist(pandas_df[\"Anxiety Level (1-10)\"], bins=10, edgecolor='black')\n",
        "plt.title(\"Anxiety Level Distribution\")\n",
        "plt.xlabel(\"Anxiety Level (1-10)\")\n",
        "plt.ylabel(\"Frequency\")\n",
        "plt.grid(True)\n",
        "plt.show()"
      ],
      "metadata": {
        "colab": {
          "base_uri": "https://localhost:8080/",
          "height": 487
        },
        "id": "N_k39mqynd9A",
        "outputId": "b76ddf4f-025a-4d8b-d9be-b848d4d8f6fb"
      },
      "execution_count": 38,
      "outputs": [
        {
          "output_type": "display_data",
          "data": {
            "text/plain": [
              "<Figure size 800x500 with 1 Axes>"
            ],
            "image/png": "[encoded data removed]"
          },
          "metadata": {}
        }
      ]
    },
    {
      "cell_type": "markdown",
      "source": [
        "### Step 27: Check Min/Max"
      ],
      "metadata": {
        "id": "r7ELo6hynh3h"
      }
    },
    {
      "cell_type": "code",
      "source": [
        "from pyspark.sql.functions import min, max\n",
        "\n",
        "df.select(\n",
        "    min(\"Anxiety Level (1-10)\").alias(\"Min Anxiety\"),\n",
        "    max(\"Anxiety Level (1-10)\").alias(\"Max Anxiety\")\n",
        ").show()"
      ],
      "metadata": {
        "colab": {
          "base_uri": "https://localhost:8080/"
        },
        "id": "H-TXGNLdncIp",
        "outputId": "d4cb76f4-b283-4582-bb8a-22ebe27aab6f"
      },
      "execution_count": 39,
      "outputs": [
        {
          "output_type": "stream",
          "name": "stdout",
          "text": [
            "+-----------+-----------+\n",
            "|Min Anxiety|Max Anxiety|\n",
            "+-----------+-----------+\n",
            "|        1.0|       10.0|\n",
            "+-----------+-----------+\n",
            "\n"
          ]
        }
      ]
    },
    {
      "cell_type": "markdown",
      "source": [
        "### Step 28: **Union** and **Intersection** in PySpark"
      ],
      "metadata": {
        "id": "hJpVCYaKn0FJ"
      }
    },
    {
      "cell_type": "markdown",
      "source": [
        "#### **Union** Operation:\n",
        "\n",
        "The `union()` operation combines two DataFrames, keeping all records from both. It **removes duplicates** only when we explicitly call `distinct()`.\n",
        "\n",
        "#### **Intersection** Operation:\n",
        "\n",
        "The `intersection()` operation returns the common records between two DataFrames."
      ],
      "metadata": {
        "id": "MrJEjIYxn17w"
      }
    },
    {
      "cell_type": "markdown",
      "source": [
        "### **Step 28.1: Creating Sample DataFrames for Union and Intersection**"
      ],
      "metadata": {
        "id": "NgL6TjeBn7mZ"
      }
    },
    {
      "cell_type": "markdown",
      "source": [
        "We will create two DataFrames to demonstrate both operations. Let's say we want to compare two DataFrames based on `Age` and `Anxiety Level`:"
      ],
      "metadata": {
        "id": "nlax4XR1n-on"
      }
    },
    {
      "cell_type": "code",
      "source": [
        "# Create sample DataFrames for demonstration\n",
        "data1 = [(25, 5), (30, 7), (35, 6), (40, 8)]\n",
        "data2 = [(30, 7), (35, 6), (45, 9), (50, 4)]\n",
        "\n",
        "columns = ['Age', 'Anxiety Level (1-10)']\n",
        "\n",
        "df1 = spark.createDataFrame(data1, columns)\n",
        "df2 = spark.createDataFrame(data2, columns)\n",
        "\n",
        "# Show the data\n",
        "df1.show()\n",
        "df2.show()"
      ],
      "metadata": {
        "colab": {
          "base_uri": "https://localhost:8080/"
        },
        "id": "8d1v9VGmn4Ho",
        "outputId": "cde5daae-feb5-4967-ac89-fd299f3742cc"
      },
      "execution_count": 40,
      "outputs": [
        {
          "output_type": "stream",
          "name": "stdout",
          "text": [
            "+---+--------------------+\n",
            "|Age|Anxiety Level (1-10)|\n",
            "+---+--------------------+\n",
            "| 25|                   5|\n",
            "| 30|                   7|\n",
            "| 35|                   6|\n",
            "| 40|                   8|\n",
            "+---+--------------------+\n",
            "\n",
            "+---+--------------------+\n",
            "|Age|Anxiety Level (1-10)|\n",
            "+---+--------------------+\n",
            "| 30|                   7|\n",
            "| 35|                   6|\n",
            "| 45|                   9|\n",
            "| 50|                   4|\n",
            "+---+--------------------+\n",
            "\n"
          ]
        }
      ]
    },
    {
      "cell_type": "markdown",
      "source": [
        "### **Step 28.2: **Union** - Combine Two DataFrames**\n"
      ],
      "metadata": {
        "id": "kJlxUx5FoFUo"
      }
    },
    {
      "cell_type": "markdown",
      "source": [
        "You can **union** two DataFrames with matching schemas:\n"
      ],
      "metadata": {
        "id": "6G0t1FQroJG4"
      }
    },
    {
      "cell_type": "code",
      "source": [
        "# Union operation (without distinct)\n",
        "df_union = df1.union(df2)\n",
        "df_union.show()\n",
        "\n",
        "# Union operation (with distinct to remove duplicates)\n",
        "df_union_distinct = df1.union(df2).distinct()\n",
        "df_union_distinct.show()"
      ],
      "metadata": {
        "colab": {
          "base_uri": "https://localhost:8080/"
        },
        "id": "wPr6u8GwoKjQ",
        "outputId": "f3c3369e-c964-4f03-a55d-0fe378a90a2e"
      },
      "execution_count": 41,
      "outputs": [
        {
          "output_type": "stream",
          "name": "stdout",
          "text": [
            "+---+--------------------+\n",
            "|Age|Anxiety Level (1-10)|\n",
            "+---+--------------------+\n",
            "| 25|                   5|\n",
            "| 30|                   7|\n",
            "| 35|                   6|\n",
            "| 40|                   8|\n",
            "| 30|                   7|\n",
            "| 35|                   6|\n",
            "| 45|                   9|\n",
            "| 50|                   4|\n",
            "+---+--------------------+\n",
            "\n",
            "+---+--------------------+\n",
            "|Age|Anxiety Level (1-10)|\n",
            "+---+--------------------+\n",
            "| 30|                   7|\n",
            "| 25|                   5|\n",
            "| 35|                   6|\n",
            "| 40|                   8|\n",
            "| 50|                   4|\n",
            "| 45|                   9|\n",
            "+---+--------------------+\n",
            "\n"
          ]
        }
      ]
    },
    {
      "cell_type": "markdown",
      "source": [
        "### **Step 28.3: **Intersection** - Find Common Records**"
      ],
      "metadata": {
        "id": "Nf18vHqZoMqc"
      }
    },
    {
      "cell_type": "markdown",
      "source": [
        "Now, let's perform the **intersection** to find the common records between `df1` and `df2`:"
      ],
      "metadata": {
        "id": "xTQUIFxDoOtQ"
      }
    },
    {
      "cell_type": "code",
      "source": [
        "df_intersection = df1.join(df2, on=['Age', 'Anxiety Level (1-10)'], how='inner')\n",
        "df_intersection.show()"
      ],
      "metadata": {
        "colab": {
          "base_uri": "https://localhost:8080/"
        },
        "id": "BfVySzWKoPEI",
        "outputId": "202332b8-6521-4c7c-fcf8-a28fac1fe94f"
      },
      "execution_count": 43,
      "outputs": [
        {
          "output_type": "stream",
          "name": "stdout",
          "text": [
            "+---+--------------------+\n",
            "|Age|Anxiety Level (1-10)|\n",
            "+---+--------------------+\n",
            "| 30|                   7|\n",
            "| 35|                   6|\n",
            "+---+--------------------+\n",
            "\n"
          ]
        }
      ]
    },
    {
      "cell_type": "markdown",
      "source": [
        "### Step 29: **Visualize Union and Intersection**"
      ],
      "metadata": {
        "id": "UMW29gDuohwA"
      }
    },
    {
      "cell_type": "markdown",
      "source": [
        "We'll now plot the results of **Union** and **Intersection** using `matplotlib`.\n",
        "\n",
        "#### **Union Chart**\n",
        "\n",
        "We will visualize the **unique data points** from the union of both DataFrames.\n"
      ],
      "metadata": {
        "id": "DMrYyps1olXQ"
      }
    },
    {
      "cell_type": "code",
      "source": [
        "import matplotlib.pyplot as plt\n",
        "\n",
        "# Convert the DataFrames to Pandas for plotting\n",
        "df_union_pd = df_union.toPandas()\n",
        "\n",
        "# Plot Union\n",
        "plt.figure(figsize=(10, 6))\n",
        "plt.scatter(df_union_pd['Age'], df_union_pd['Anxiety Level (1-10)'], color='blue', label='Union Data')\n",
        "plt.title('Union of Two DataFrames (Age vs Anxiety Level)')\n",
        "plt.xlabel('Age')\n",
        "plt.ylabel('Anxiety Level (1-10)')\n",
        "plt.legend()\n",
        "plt.grid(True)\n",
        "plt.show()"
      ],
      "metadata": {
        "colab": {
          "base_uri": "https://localhost:8080/",
          "height": 564
        },
        "id": "pZxVuVomoUM0",
        "outputId": "932f03fd-d6d2-4115-af17-7b7ac42921f5"
      },
      "execution_count": 44,
      "outputs": [
        {
          "output_type": "display_data",
          "data": {
            "text/plain": [
              "<Figure size 1000x600 with 1 Axes>"
            ],
            "image/png": "[encoded data removed]"
          },
          "metadata": {}
        }
      ]
    },
    {
      "cell_type": "markdown",
      "source": [
        "#### **Intersection Chart**"
      ],
      "metadata": {
        "id": "1jW6pZR2osUI"
      }
    },
    {
      "cell_type": "markdown",
      "source": [
        "Now, let's plot the **common data points** from the intersection."
      ],
      "metadata": {
        "id": "jrhuOrw9ot15"
      }
    },
    {
      "cell_type": "code",
      "source": [
        "# Convert the DataFrame to Pandas for plotting\n",
        "df_intersection_pd = df_intersection.toPandas()\n",
        "\n",
        "# Plot Intersection\n",
        "plt.figure(figsize=(10, 6))\n",
        "plt.scatter(df_intersection_pd['Age'], df_intersection_pd['Anxiety Level (1-10)'], color='red', label='Intersection Data')\n",
        "plt.title('Intersection of Two DataFrames (Age vs Anxiety Level)')\n",
        "plt.xlabel('Age')\n",
        "plt.ylabel('Anxiety Level (1-10)')\n",
        "plt.legend()\n",
        "plt.grid(True)\n",
        "plt.show()"
      ],
      "metadata": {
        "colab": {
          "base_uri": "https://localhost:8080/",
          "height": 564
        },
        "id": "027rR0Yhou61",
        "outputId": "e42c1001-cfaa-410a-a825-b97ed1d6eb09"
      },
      "execution_count": 45,
      "outputs": [
        {
          "output_type": "display_data",
          "data": {
            "text/plain": [
              "<Figure size 1000x600 with 1 Axes>"
            ],
            "image/png": "[encoded data removed]"
          },
          "metadata": {}
        }
      ]
    },
    {
      "cell_type": "markdown",
      "source": [
        "Install the matplotlib-venn library"
      ],
      "metadata": {
        "id": "IyvtHrkso6c0"
      }
    },
    {
      "cell_type": "code",
      "source": [
        "!pip install matplotlib-venn\n"
      ],
      "metadata": {
        "colab": {
          "base_uri": "https://localhost:8080/"
        },
        "id": "sNDr2Mqeo7K6",
        "outputId": "8a0a85c8-9018-44aa-b930-7a1a69c0ccb9"
      },
      "execution_count": 46,
      "outputs": [
        {
          "output_type": "stream",
          "name": "stdout",
          "text": [
            "Requirement already satisfied: matplotlib-venn in /usr/local/lib/python3.12/dist-packages (1.1.2)\n",
            "Requirement already satisfied: matplotlib in /usr/local/lib/python3.12/dist-packages (from matplotlib-venn) (3.10.0)\n",
            "Requirement already satisfied: numpy in /usr/local/lib/python3.12/dist-packages (from matplotlib-venn) (2.0.2)\n",
            "Requirement already satisfied: scipy in /usr/local/lib/python3.12/dist-packages (from matplotlib-venn) (1.16.2)\n",
            "Requirement already satisfied: contourpy>=1.0.1 in /usr/local/lib/python3.12/dist-packages (from matplotlib->matplotlib-venn) (1.3.3)\n",
            "Requirement already satisfied: cycler>=0.10 in /usr/local/lib/python3.12/dist-packages (from matplotlib->matplotlib-venn) (0.12.1)\n",
            "Requirement already satisfied: fonttools>=4.22.0 in /usr/local/lib/python3.12/dist-packages (from matplotlib->matplotlib-venn) (4.60.0)\n",
            "Requirement already satisfied: kiwisolver>=1.3.1 in /usr/local/lib/python3.12/dist-packages (from matplotlib->matplotlib-venn) (1.4.9)\n",
            "Requirement already satisfied: packaging>=20.0 in /usr/local/lib/python3.12/dist-packages (from matplotlib->matplotlib-venn) (25.0)\n",
            "Requirement already satisfied: pillow>=8 in /usr/local/lib/python3.12/dist-packages (from matplotlib->matplotlib-venn) (11.3.0)\n",
            "Requirement already satisfied: pyparsing>=2.3.1 in /usr/local/lib/python3.12/dist-packages (from matplotlib->matplotlib-venn) (3.2.4)\n",
            "Requirement already satisfied: python-dateutil>=2.7 in /usr/local/lib/python3.12/dist-packages (from matplotlib->matplotlib-venn) (2.9.0.post0)\n",
            "Requirement already satisfied: six>=1.5 in /usr/local/lib/python3.12/dist-packages (from python-dateutil>=2.7->matplotlib->matplotlib-venn) (1.17.0)\n"
          ]
        }
      ]
    },
    {
      "cell_type": "markdown",
      "source": [
        "### Step 30: Creating Venn Diagram for Union and Intersection"
      ],
      "metadata": {
        "id": "uVyfuZipo-rY"
      }
    },
    {
      "cell_type": "code",
      "source": [
        "from matplotlib import pyplot as plt\n",
        "from matplotlib_venn import venn2\n",
        "\n",
        "# Get the number of rows in each DataFrame and the intersection\n",
        "union_count = df1.union(df2).distinct().count()\n",
        "intersection_count = df1.join(df2, on=['Age', 'Anxiety Level (1-10)'], how='inner').count()\n",
        "df1_count = df1.count()\n",
        "df2_count = df2.count()\n",
        "\n",
        "# Create a Venn diagram with two sets\n",
        "venn2(subsets=(df1_count, df2_count, intersection_count),\n",
        "      set_labels=('df1', 'df2'))\n",
        "\n",
        "# Title and plot\n",
        "plt.title(\"Venn Diagram for Union and Intersection\")\n",
        "plt.show()\n"
      ],
      "metadata": {
        "colab": {
          "base_uri": "https://localhost:8080/",
          "height": 401
        },
        "id": "NJs4ZdUIpBKR",
        "outputId": "23fc8b1e-10d6-4d33-d93f-0fa898545f13"
      },
      "execution_count": 47,
      "outputs": [
        {
          "output_type": "display_data",
          "data": {
            "text/plain": [
              "<Figure size 640x480 with 1 Axes>"
            ],
            "image/png": "[encoded data removed]"
          },
          "metadata": {}
        }
      ]
    }
  ]
}